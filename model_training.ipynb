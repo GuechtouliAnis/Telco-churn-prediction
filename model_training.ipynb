{
 "cells": [
  {
   "cell_type": "code",
   "execution_count": 1,
   "id": "1f3ba451",
   "metadata": {},
   "outputs": [],
   "source": [
    "import pandas as pd\n",
    "\n",
    "pd.set_option('display.max_columns', None)"
   ]
  },
  {
   "cell_type": "code",
   "execution_count": 2,
   "id": "85e09b3b",
   "metadata": {},
   "outputs": [],
   "source": [
    "from preprocessing import *"
   ]
  },
  {
   "cell_type": "code",
   "execution_count": 3,
   "id": "717f6fdd",
   "metadata": {},
   "outputs": [],
   "source": [
    "df = pd.read_csv('WA_Fn-UseC_-Telco-Customer-Churn.csv')"
   ]
  },
  {
   "cell_type": "code",
   "execution_count": 4,
   "id": "10fcdfa7",
   "metadata": {},
   "outputs": [],
   "source": [
    "df[\"TotalCharges\"] = pd.to_numeric(df[\"TotalCharges\"], errors=\"coerce\")\n",
    "df.loc[df[\"tenure\"] == 0, \"TotalCharges\"] = 0"
   ]
  },
  {
   "cell_type": "code",
   "execution_count": 5,
   "id": "700a87ec",
   "metadata": {},
   "outputs": [],
   "source": [
    "df['HasInternet'] = df['OnlineBackup'].isin(['No internet service'])\n",
    "df['automatic_pay'] = df['PaymentMethod'].isin(['Bank transfer (automatic)','Credit card (automatic)'])"
   ]
  },
  {
   "cell_type": "code",
   "execution_count": 6,
   "id": "60c1e5b4",
   "metadata": {},
   "outputs": [],
   "source": [
    "df = mapping(df, YES_NO, YES_NO_MAPPING)"
   ]
  },
  {
   "cell_type": "code",
   "execution_count": 7,
   "id": "b5907a10",
   "metadata": {},
   "outputs": [],
   "source": [
    "df['gender'] = df['gender'].map({'Male' : 1, 'Female' : 0})\n",
    "df['MultipleLines'] = df['MultipleLines'].map({'No phone service' : 0, 'No' : 1, 'Yes' : 2})\n",
    "df['Contract'] = df['Contract'].map({'Month-to-month' : 0, 'One year' : 1, 'Two year' : 2})"
   ]
  },
  {
   "cell_type": "code",
   "execution_count": 8,
   "id": "53c5e041",
   "metadata": {},
   "outputs": [],
   "source": [
    "df = mapping(df, INTERNET_VARS, INTERNET_VARS_MAPPING)"
   ]
  },
  {
   "cell_type": "code",
   "execution_count": 9,
   "id": "fd0183be",
   "metadata": {},
   "outputs": [],
   "source": [
    "df = dummies(df, DUMMIES_VARS, TO_DROP)"
   ]
  },
  {
   "cell_type": "code",
   "execution_count": 10,
   "id": "2d20a2a9",
   "metadata": {},
   "outputs": [],
   "source": [
    "df = mapping(df, TRUE_FALSE, TRUE_FALSE_MAPPING)"
   ]
  },
  {
   "cell_type": "code",
   "execution_count": 11,
   "id": "9b58ee37",
   "metadata": {},
   "outputs": [
    {
     "name": "stdout",
     "output_type": "stream",
     "text": [
      "<class 'pandas.core.frame.DataFrame'>\n",
      "RangeIndex: 7043 entries, 0 to 7042\n",
      "Data columns (total 26 columns):\n",
      " #   Column                     Non-Null Count  Dtype  \n",
      "---  ------                     --------------  -----  \n",
      " 0   customerID                 7043 non-null   object \n",
      " 1   gender                     7043 non-null   int64  \n",
      " 2   SeniorCitizen              7043 non-null   int64  \n",
      " 3   Partner                    7043 non-null   int64  \n",
      " 4   Dependents                 7043 non-null   int64  \n",
      " 5   tenure                     7043 non-null   int64  \n",
      " 6   PhoneService               7043 non-null   int64  \n",
      " 7   MultipleLines              7043 non-null   int64  \n",
      " 8   OnlineSecurity             7043 non-null   int64  \n",
      " 9   OnlineBackup               7043 non-null   int64  \n",
      " 10  DeviceProtection           7043 non-null   int64  \n",
      " 11  TechSupport                7043 non-null   int64  \n",
      " 12  StreamingTV                7043 non-null   int64  \n",
      " 13  StreamingMovies            7043 non-null   int64  \n",
      " 14  Contract                   7043 non-null   int64  \n",
      " 15  PaperlessBilling           7043 non-null   int64  \n",
      " 16  MonthlyCharges             7043 non-null   float64\n",
      " 17  TotalCharges               7043 non-null   float64\n",
      " 18  Churn                      7043 non-null   int64  \n",
      " 19  HasInternet                7043 non-null   int64  \n",
      " 20  automatic_pay              7043 non-null   int64  \n",
      " 21  DSL                        7043 non-null   int64  \n",
      " 22  Fiber optic                7043 non-null   int64  \n",
      " 23  Bank transfer (automatic)  7043 non-null   int64  \n",
      " 24  Credit card (automatic)    7043 non-null   int64  \n",
      " 25  Electronic check           7043 non-null   int64  \n",
      "dtypes: float64(2), int64(23), object(1)\n",
      "memory usage: 1.4+ MB\n"
     ]
    }
   ],
   "source": [
    "df.info()"
   ]
  },
  {
   "cell_type": "code",
   "execution_count": 12,
   "id": "7b94b180",
   "metadata": {},
   "outputs": [],
   "source": [
    "df.drop('customerID', axis=1, inplace=True)"
   ]
  },
  {
   "cell_type": "code",
   "execution_count": 13,
   "id": "805a20c3",
   "metadata": {},
   "outputs": [],
   "source": [
    "from sklearn.model_selection import train_test_split\n",
    "\n",
    "X = df.drop('Churn',axis=1)\n",
    "Y = df['Churn']"
   ]
  },
  {
   "cell_type": "code",
   "execution_count": 14,
   "id": "638b3b81",
   "metadata": {},
   "outputs": [],
   "source": [
    "x_train, x_test, y_train, y_test = train_test_split(X, Y, test_size=0.2, random_state=42, stratify=Y)"
   ]
  },
  {
   "cell_type": "code",
   "execution_count": null,
   "id": "626bf8af",
   "metadata": {},
   "outputs": [
    {
     "name": "stdout",
     "output_type": "stream",
     "text": [
      "0.8076650106458482\n",
      "              precision    recall  f1-score   support\n",
      "\n",
      "           0       0.85      0.90      0.87      1035\n",
      "           1       0.66      0.56      0.61       374\n",
      "\n",
      "    accuracy                           0.81      1409\n",
      "   macro avg       0.76      0.73      0.74      1409\n",
      "weighted avg       0.80      0.81      0.80      1409\n",
      "\n",
      "[[928 107]\n",
      " [164 210]]\n",
      "AUC: 0.8425766617582474\n"
     ]
    }
   ],
   "source": [
    "from sklearn.linear_model import LogisticRegression\n",
    "from sklearn.metrics import classification_report, accuracy_score, confusion_matrix\n",
    "from sklearn.metrics import roc_auc_score\n",
    "\n",
    "model = LogisticRegression(max_iter=3500)\n",
    "model.fit(x_train,y_train)\n",
    "y_pred = model.predict(x_test)\n",
    "y_pred_proba = model.predict_proba(x_test)[:,1]\n",
    "\n",
    "print(accuracy_score(y_test,y_pred))\n",
    "print(classification_report(y_test,y_pred))\n",
    "print(confusion_matrix(y_test,y_pred))\n",
    "print(\"AUC:\", roc_auc_score(y_test, y_pred_proba))"
   ]
  },
  {
   "cell_type": "code",
   "execution_count": 31,
   "id": "2161b7a0",
   "metadata": {},
   "outputs": [
    {
     "name": "stdout",
     "output_type": "stream",
     "text": [
      "0.7892122072391767\n",
      "              precision    recall  f1-score   support\n",
      "\n",
      "           0       0.83      0.90      0.86      1035\n",
      "           1       0.64      0.48      0.55       374\n",
      "\n",
      "    accuracy                           0.79      1409\n",
      "   macro avg       0.73      0.69      0.71      1409\n",
      "weighted avg       0.78      0.79      0.78      1409\n",
      "\n",
      "[[931 104]\n",
      " [193 181]]\n",
      "AUC: 0.8242682580278489\n"
     ]
    }
   ],
   "source": [
    "from sklearn.ensemble import RandomForestClassifier\n",
    "model = RandomForestClassifier(class_weight='balanced', random_state=42)\n",
    "model.fit(x_train,y_train)\n",
    "y_pred = model.predict(x_test)\n",
    "y_pred_proba = model.predict_proba(x_test)[:,1]\n",
    "\n",
    "print(accuracy_score(y_test,y_pred))\n",
    "print(classification_report(y_test,y_pred))\n",
    "print(confusion_matrix(y_test,y_pred))\n",
    "print(\"AUC:\", roc_auc_score(y_test, y_pred_proba))"
   ]
  },
  {
   "cell_type": "code",
   "execution_count": 32,
   "id": "3580c4db",
   "metadata": {},
   "outputs": [
    {
     "name": "stdout",
     "output_type": "stream",
     "text": [
      "0.772888573456352\n",
      "              precision    recall  f1-score   support\n",
      "\n",
      "           0       0.83      0.86      0.85      1035\n",
      "           1       0.58      0.52      0.55       374\n",
      "\n",
      "    accuracy                           0.77      1409\n",
      "   macro avg       0.71      0.69      0.70      1409\n",
      "weighted avg       0.77      0.77      0.77      1409\n",
      "\n",
      "[[894 141]\n",
      " [179 195]]\n",
      "AUC: 0.8202976052080913\n"
     ]
    }
   ],
   "source": [
    "from xgboost import XGBClassifier\n",
    "\n",
    "imbalance_ratio = (len(y_train) - sum(y_train)) / sum(y_train)\n",
    "\n",
    "model = XGBClassifier(\n",
    "    eval_metric=\"logloss\",   # add this instead\n",
    "    random_state=42)\n",
    "\n",
    "model.fit(x_train, y_train)\n",
    "\n",
    "y_pred = model.predict(x_test)\n",
    "y_pred_proba = model.predict_proba(x_test)[:,1]\n",
    "\n",
    "print(accuracy_score(y_test,y_pred))\n",
    "print(classification_report(y_test,y_pred))\n",
    "print(confusion_matrix(y_test,y_pred))\n",
    "print(\"AUC:\", roc_auc_score(y_test, y_pred_proba))"
   ]
  },
  {
   "cell_type": "code",
   "execution_count": 34,
   "id": "7ddb8ee0",
   "metadata": {},
   "outputs": [
    {
     "name": "stdout",
     "output_type": "stream",
     "text": [
      "0.7984386089425124\n",
      "              precision    recall  f1-score   support\n",
      "\n",
      "           0       0.84      0.90      0.87      1035\n",
      "           1       0.65      0.52      0.58       374\n",
      "\n",
      "    accuracy                           0.80      1409\n",
      "   macro avg       0.74      0.71      0.72      1409\n",
      "weighted avg       0.79      0.80      0.79      1409\n",
      "\n",
      "[[930 105]\n",
      " [179 195]]\n"
     ]
    }
   ],
   "source": [
    "from sklearn.svm import LinearSVC\n",
    "\n",
    "model = LinearSVC(max_iter=5000, random_state=42)\n",
    "model.fit(x_train, y_train)\n",
    "y_pred = model.predict(x_test)\n",
    "\n",
    "print(accuracy_score(y_test, y_pred))\n",
    "print(classification_report(y_test, y_pred))\n",
    "print(confusion_matrix(y_test, y_pred))"
   ]
  },
  {
   "cell_type": "code",
   "execution_count": 35,
   "id": "e18ff0f0",
   "metadata": {},
   "outputs": [
    {
     "name": "stdout",
     "output_type": "stream",
     "text": [
      "0.7714691270404542\n",
      "              precision    recall  f1-score   support\n",
      "\n",
      "           0       0.83      0.86      0.85      1035\n",
      "           1       0.58      0.52      0.55       374\n",
      "\n",
      "    accuracy                           0.77      1409\n",
      "   macro avg       0.70      0.69      0.70      1409\n",
      "weighted avg       0.76      0.77      0.77      1409\n",
      "\n",
      "[[892 143]\n",
      " [179 195]]\n",
      "AUC: 0.797432121728797\n"
     ]
    }
   ],
   "source": [
    "from sklearn.ensemble import GradientBoostingClassifier\n",
    "\n",
    "model = GradientBoostingClassifier(n_estimators=300,\n",
    "                                   learning_rate=0.5,\n",
    "                                   max_depth=5,\n",
    "                                   random_state=42)\n",
    "\n",
    "model.fit(x_train, y_train)\n",
    "y_pred = model.predict(x_test)\n",
    "y_pred_proba = model.predict_proba(x_test)[:,1]\n",
    "\n",
    "print(accuracy_score(y_test,y_pred))\n",
    "print(classification_report(y_test,y_pred))\n",
    "print(confusion_matrix(y_test,y_pred))\n",
    "print(\"AUC:\", roc_auc_score(y_test, y_pred_proba))"
   ]
  },
  {
   "cell_type": "code",
   "execution_count": 36,
   "id": "90c1a11d",
   "metadata": {},
   "outputs": [
    {
     "name": "stdout",
     "output_type": "stream",
     "text": [
      "0.794180269694819\n",
      "              precision    recall  f1-score   support\n",
      "\n",
      "           0       0.82      0.92      0.87      1035\n",
      "           1       0.67      0.45      0.54       374\n",
      "\n",
      "    accuracy                           0.79      1409\n",
      "   macro avg       0.74      0.68      0.70      1409\n",
      "weighted avg       0.78      0.79      0.78      1409\n",
      "\n",
      "[[951  84]\n",
      " [206 168]]\n",
      "AUC: 0.8343796016430288\n"
     ]
    }
   ],
   "source": [
    "from sklearn.neural_network import MLPClassifier\n",
    "from sklearn.metrics import classification_report, accuracy_score, confusion_matrix\n",
    "\n",
    "# Simple feedforward NN\n",
    "model = MLPClassifier(\n",
    "    hidden_layer_sizes=(32, 64, 128, 64, 32, 16),\n",
    "    activation='relu',\n",
    "    solver='adam',\n",
    "    max_iter=1000,\n",
    "    random_state=42\n",
    ")\n",
    "\n",
    "model.fit(x_train, y_train)\n",
    "y_pred = model.predict(x_test)\n",
    "y_pred_proba = model.predict_proba(x_test)[:,1]\n",
    "\n",
    "print(accuracy_score(y_test,y_pred))\n",
    "print(classification_report(y_test,y_pred))\n",
    "print(confusion_matrix(y_test,y_pred))\n",
    "print(\"AUC:\", roc_auc_score(y_test, y_pred_proba))"
   ]
  },
  {
   "cell_type": "code",
   "execution_count": 40,
   "id": "25e8dd7e",
   "metadata": {},
   "outputs": [
    {
     "name": "stdout",
     "output_type": "stream",
     "text": [
      "0.7629524485450674\n",
      "              precision    recall  f1-score   support\n",
      "\n",
      "           0       0.81      0.88      0.85      1035\n",
      "           1       0.57      0.43      0.49       374\n",
      "\n",
      "    accuracy                           0.76      1409\n",
      "   macro avg       0.69      0.66      0.67      1409\n",
      "weighted avg       0.75      0.76      0.75      1409\n",
      "\n",
      "[[914 121]\n",
      " [213 161]]\n",
      "AUC: 0.7537123149655119\n"
     ]
    }
   ],
   "source": [
    "from sklearn.neighbors import KNeighborsClassifier\n",
    "\n",
    "model = KNeighborsClassifier(n_neighbors=5)\n",
    "\n",
    "model.fit(x_train, y_train)\n",
    "y_pred = model.predict(x_test)\n",
    "y_pred_proba = model.predict_proba(x_test)[:,1]\n",
    "\n",
    "print(accuracy_score(y_test,y_pred))\n",
    "print(classification_report(y_test,y_pred))\n",
    "print(confusion_matrix(y_test,y_pred))\n",
    "print(\"AUC:\", roc_auc_score(y_test, y_pred_proba))"
   ]
  },
  {
   "cell_type": "code",
   "execution_count": null,
   "id": "56ab8ac7",
   "metadata": {},
   "outputs": [
    {
     "name": "stdout",
     "output_type": "stream",
     "text": [
      "Accuracy: 0.7374024130589071\n",
      "              precision    recall  f1-score   support\n",
      "\n",
      "           0       0.82      0.82      0.82      1035\n",
      "           1       0.51      0.51      0.51       374\n",
      "\n",
      "    accuracy                           0.74      1409\n",
      "   macro avg       0.66      0.67      0.67      1409\n",
      "weighted avg       0.74      0.74      0.74      1409\n",
      "\n",
      "[[847 188]\n",
      " [182 192]]\n",
      "AUC: 0.6656281484925987\n"
     ]
    }
   ],
   "source": [
    "from sklearn.tree import DecisionTreeClassifier\n",
    "\n",
    "model = DecisionTreeClassifier(random_state=42)\n",
    "\n",
    "model.fit(x_train, y_train)\n",
    "y_pred = model.predict(x_test)\n",
    "y_proba = model.predict_proba(x_test)[:,1]\n",
    "\n",
    "print(\"Accuracy:\", accuracy_score(y_test, y_pred))\n",
    "print(classification_report(y_test, y_pred))\n",
    "print(confusion_matrix(y_test, y_pred))\n",
    "print(\"AUC:\", roc_auc_score(y_test, y_proba))"
   ]
  },
  {
   "cell_type": "code",
   "execution_count": 43,
   "id": "beb5896d",
   "metadata": {},
   "outputs": [
    {
     "name": "stdout",
     "output_type": "stream",
     "text": [
      "Accuracy: 0.7849538679914834\n",
      "              precision    recall  f1-score   support\n",
      "\n",
      "           0       0.83      0.89      0.86      1035\n",
      "           1       0.62      0.49      0.55       374\n",
      "\n",
      "    accuracy                           0.78      1409\n",
      "   macro avg       0.72      0.69      0.70      1409\n",
      "weighted avg       0.77      0.78      0.78      1409\n",
      "\n",
      "[[921 114]\n",
      " [189 185]]\n",
      "AUC: 0.8237515823193572\n"
     ]
    }
   ],
   "source": [
    "from sklearn.ensemble import RandomForestClassifier\n",
    "\n",
    "model = RandomForestClassifier(n_estimators=200, random_state=42)\n",
    "\n",
    "model.fit(x_train, y_train)\n",
    "y_pred = model.predict(x_test)\n",
    "y_proba = model.predict_proba(x_test)[:,1]\n",
    "\n",
    "print(\"Accuracy:\", accuracy_score(y_test, y_pred))\n",
    "print(classification_report(y_test, y_pred))\n",
    "print(confusion_matrix(y_test, y_pred))\n",
    "print(\"AUC:\", roc_auc_score(y_test, y_proba))"
   ]
  },
  {
   "cell_type": "code",
   "execution_count": null,
   "id": "270d1733",
   "metadata": {},
   "outputs": [
    {
     "name": "stdout",
     "output_type": "stream",
     "text": [
      "Best params: {'C': 10, 'penalty': 'l1', 'solver': 'liblinear'}\n",
      "Best AUC: 0.8458461653337798\n"
     ]
    }
   ],
   "source": [
    "from sklearn.model_selection import GridSearchCV\n",
    "from sklearn.linear_model import LogisticRegression\n",
    "\n",
    "param_grid = [\n",
    "    {\n",
    "        \"penalty\": [\"l1\"],\n",
    "        \"solver\": [\"liblinear\", \"saga\"],\n",
    "        \"C\": [0.01, 0.1, 1, 10, 100]\n",
    "    },\n",
    "    {\n",
    "        \"penalty\": [\"l2\"],\n",
    "        \"solver\": [\"liblinear\", \"saga\"],\n",
    "        \"C\": [0.01, 0.1, 1, 10, 100]\n",
    "    },\n",
    "    {\n",
    "        \"penalty\": [\"elasticnet\"],\n",
    "        \"solver\": [\"saga\"],\n",
    "        \"C\": [0.01, 0.1, 1, 10, 100],\n",
    "        \"l1_ratio\": [0, 0.5, 1]\n",
    "    },\n",
    "    {\n",
    "        \"penalty\": [None],\n",
    "        \"solver\": [\"saga\"],\n",
    "        \"C\": [1]\n",
    "    }\n",
    "]\n",
    "\n",
    "grid = GridSearchCV(\n",
    "    LogisticRegression(max_iter=5000, class_weight=\"balanced\"),\n",
    "    param_grid,\n",
    "    scoring=\"roc_auc\",\n",
    "    cv=5,\n",
    "    n_jobs=-1\n",
    ")\n",
    "\n",
    "grid.fit(x_train, y_train)\n",
    "\n",
    "print(\"Best params:\", grid.best_params_)\n",
    "print(\"Best AUC:\", grid.best_score_)"
   ]
  },
  {
   "cell_type": "code",
   "execution_count": null,
   "id": "5b151895",
   "metadata": {},
   "outputs": [],
   "source": []
  }
 ],
 "metadata": {
  "kernelspec": {
   "display_name": "venv",
   "language": "python",
   "name": "python3"
  },
  "language_info": {
   "codemirror_mode": {
    "name": "ipython",
    "version": 3
   },
   "file_extension": ".py",
   "mimetype": "text/x-python",
   "name": "python",
   "nbconvert_exporter": "python",
   "pygments_lexer": "ipython3",
   "version": "3.12.4"
  }
 },
 "nbformat": 4,
 "nbformat_minor": 5
}
