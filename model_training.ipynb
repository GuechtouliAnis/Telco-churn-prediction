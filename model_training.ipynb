{
 "cells": [
  {
   "cell_type": "markdown",
   "id": "72fb1d48",
   "metadata": {},
   "source": [
    "## Telco Customer Churn Prediction"
   ]
  },
  {
   "cell_type": "markdown",
   "id": "141c5ed9",
   "metadata": {},
   "source": [
    "### Model Training Notebook"
   ]
  },
  {
   "cell_type": "code",
   "execution_count": 1,
   "id": "096637d9",
   "metadata": {},
   "outputs": [],
   "source": [
    "import pandas as pd\n",
    "from src.preprocessing import *\n",
    "\n",
    "from sklearn.model_selection import train_test_split\n",
    "\n",
    "from sklearn.linear_model import LogisticRegression\n",
    "from sklearn.ensemble import RandomForestClassifier, GradientBoostingClassifier\n",
    "from sklearn.neural_network import MLPClassifier\n",
    "from sklearn.neighbors import KNeighborsClassifier\n",
    "from xgboost import XGBClassifier\n",
    "\n",
    "from sklearn.metrics import classification_report, accuracy_score, confusion_matrix\n",
    "from sklearn.metrics import roc_auc_score\n",
    "\n",
    "import joblib"
   ]
  },
  {
   "cell_type": "code",
   "execution_count": 2,
   "id": "702b32c9",
   "metadata": {},
   "outputs": [],
   "source": [
    "pd.set_option('display.max_columns', None)"
   ]
  },
  {
   "cell_type": "code",
   "execution_count": 3,
   "id": "aa79f7d0",
   "metadata": {},
   "outputs": [],
   "source": [
    "df = pd.read_csv('data/WA_Fn-UseC_-Telco-Customer-Churn.csv')"
   ]
  },
  {
   "cell_type": "markdown",
   "id": "6349ded4",
   "metadata": {},
   "source": [
    "We apply the same preprocessing steps shown in [data_exploration.ipynb](data_exploration.ipynb)"
   ]
  },
  {
   "cell_type": "code",
   "execution_count": 4,
   "id": "2fd62e60",
   "metadata": {},
   "outputs": [],
   "source": [
    "df[\"TotalCharges\"] = pd.to_numeric(df[\"TotalCharges\"], errors=\"coerce\")\n",
    "df.loc[df[\"tenure\"] == 0, \"TotalCharges\"] = 0"
   ]
  },
  {
   "cell_type": "code",
   "execution_count": 5,
   "id": "3aef9fbe",
   "metadata": {},
   "outputs": [],
   "source": [
    "df['HasInternet'] = ~df['OnlineBackup'].isin(['No internet service'])\n",
    "df['automatic_pay'] = df['PaymentMethod'].isin(['Bank transfer (automatic)','Credit card (automatic)'])"
   ]
  },
  {
   "cell_type": "code",
   "execution_count": 6,
   "id": "243b10e9",
   "metadata": {},
   "outputs": [],
   "source": [
    "df = mapping(df, YES_NO, YES_NO_MAPPING)"
   ]
  },
  {
   "cell_type": "code",
   "execution_count": 7,
   "id": "60ed651b",
   "metadata": {},
   "outputs": [],
   "source": [
    "df['gender'] = df['gender'].map({'Male' : 1, 'Female' : 0})\n",
    "df['MultipleLines'] = df['MultipleLines'].map({'No phone service' : 0, 'No' : 1, 'Yes' : 2})\n",
    "df['Contract'] = df['Contract'].map({'Month-to-month' : 0, 'One year' : 1, 'Two year' : 2})"
   ]
  },
  {
   "cell_type": "code",
   "execution_count": 8,
   "id": "f8f200e3",
   "metadata": {},
   "outputs": [],
   "source": [
    "df = mapping(df, INTERNET_VARS, INTERNET_VARS_MAPPING)"
   ]
  },
  {
   "cell_type": "code",
   "execution_count": 9,
   "id": "1733d631",
   "metadata": {},
   "outputs": [],
   "source": [
    "df = dummies(df, DUMMIES_VARS, TO_DROP)"
   ]
  },
  {
   "cell_type": "code",
   "execution_count": 10,
   "id": "0f226e63",
   "metadata": {},
   "outputs": [],
   "source": [
    "df = mapping(df, TRUE_FALSE, TRUE_FALSE_MAPPING)"
   ]
  },
  {
   "cell_type": "code",
   "execution_count": 11,
   "id": "0195e7c4",
   "metadata": {},
   "outputs": [],
   "source": [
    "df.drop(['customerID', 'TotalCharges', 'PhoneService'], axis=1, inplace=True)"
   ]
  },
  {
   "cell_type": "code",
   "execution_count": 12,
   "id": "79224b2a",
   "metadata": {},
   "outputs": [
    {
     "name": "stdout",
     "output_type": "stream",
     "text": [
      "<class 'pandas.core.frame.DataFrame'>\n",
      "RangeIndex: 7043 entries, 0 to 7042\n",
      "Data columns (total 23 columns):\n",
      " #   Column                     Non-Null Count  Dtype  \n",
      "---  ------                     --------------  -----  \n",
      " 0   gender                     7043 non-null   int64  \n",
      " 1   SeniorCitizen              7043 non-null   int64  \n",
      " 2   Partner                    7043 non-null   int64  \n",
      " 3   Dependents                 7043 non-null   int64  \n",
      " 4   tenure                     7043 non-null   int64  \n",
      " 5   MultipleLines              7043 non-null   int64  \n",
      " 6   OnlineSecurity             7043 non-null   int64  \n",
      " 7   OnlineBackup               7043 non-null   int64  \n",
      " 8   DeviceProtection           7043 non-null   int64  \n",
      " 9   TechSupport                7043 non-null   int64  \n",
      " 10  StreamingTV                7043 non-null   int64  \n",
      " 11  StreamingMovies            7043 non-null   int64  \n",
      " 12  Contract                   7043 non-null   int64  \n",
      " 13  PaperlessBilling           7043 non-null   int64  \n",
      " 14  MonthlyCharges             7043 non-null   float64\n",
      " 15  Churn                      7043 non-null   int64  \n",
      " 16  HasInternet                7043 non-null   int64  \n",
      " 17  automatic_pay              7043 non-null   int64  \n",
      " 18  DSL                        7043 non-null   int64  \n",
      " 19  Fiber optic                7043 non-null   int64  \n",
      " 20  Bank transfer (automatic)  7043 non-null   int64  \n",
      " 21  Credit card (automatic)    7043 non-null   int64  \n",
      " 22  Electronic check           7043 non-null   int64  \n",
      "dtypes: float64(1), int64(22)\n",
      "memory usage: 1.2 MB\n"
     ]
    }
   ],
   "source": [
    "df.info()"
   ]
  },
  {
   "cell_type": "code",
   "execution_count": 13,
   "id": "d35849bd",
   "metadata": {},
   "outputs": [
    {
     "data": {
      "text/html": [
       "<div>\n",
       "<style scoped>\n",
       "    .dataframe tbody tr th:only-of-type {\n",
       "        vertical-align: middle;\n",
       "    }\n",
       "\n",
       "    .dataframe tbody tr th {\n",
       "        vertical-align: top;\n",
       "    }\n",
       "\n",
       "    .dataframe thead th {\n",
       "        text-align: right;\n",
       "    }\n",
       "</style>\n",
       "<table border=\"1\" class=\"dataframe\">\n",
       "  <thead>\n",
       "    <tr style=\"text-align: right;\">\n",
       "      <th></th>\n",
       "      <th>gender</th>\n",
       "      <th>SeniorCitizen</th>\n",
       "      <th>Partner</th>\n",
       "      <th>Dependents</th>\n",
       "      <th>tenure</th>\n",
       "      <th>MultipleLines</th>\n",
       "      <th>OnlineSecurity</th>\n",
       "      <th>OnlineBackup</th>\n",
       "      <th>DeviceProtection</th>\n",
       "      <th>TechSupport</th>\n",
       "      <th>StreamingTV</th>\n",
       "      <th>StreamingMovies</th>\n",
       "      <th>Contract</th>\n",
       "      <th>PaperlessBilling</th>\n",
       "      <th>MonthlyCharges</th>\n",
       "      <th>Churn</th>\n",
       "      <th>HasInternet</th>\n",
       "      <th>automatic_pay</th>\n",
       "      <th>DSL</th>\n",
       "      <th>Fiber optic</th>\n",
       "      <th>Bank transfer (automatic)</th>\n",
       "      <th>Credit card (automatic)</th>\n",
       "      <th>Electronic check</th>\n",
       "    </tr>\n",
       "  </thead>\n",
       "  <tbody>\n",
       "    <tr>\n",
       "      <th>0</th>\n",
       "      <td>0</td>\n",
       "      <td>0</td>\n",
       "      <td>1</td>\n",
       "      <td>0</td>\n",
       "      <td>1</td>\n",
       "      <td>0</td>\n",
       "      <td>0</td>\n",
       "      <td>1</td>\n",
       "      <td>0</td>\n",
       "      <td>0</td>\n",
       "      <td>0</td>\n",
       "      <td>0</td>\n",
       "      <td>0</td>\n",
       "      <td>1</td>\n",
       "      <td>29.85</td>\n",
       "      <td>0</td>\n",
       "      <td>1</td>\n",
       "      <td>0</td>\n",
       "      <td>1</td>\n",
       "      <td>0</td>\n",
       "      <td>0</td>\n",
       "      <td>0</td>\n",
       "      <td>1</td>\n",
       "    </tr>\n",
       "    <tr>\n",
       "      <th>1</th>\n",
       "      <td>1</td>\n",
       "      <td>0</td>\n",
       "      <td>0</td>\n",
       "      <td>0</td>\n",
       "      <td>34</td>\n",
       "      <td>1</td>\n",
       "      <td>1</td>\n",
       "      <td>0</td>\n",
       "      <td>1</td>\n",
       "      <td>0</td>\n",
       "      <td>0</td>\n",
       "      <td>0</td>\n",
       "      <td>1</td>\n",
       "      <td>0</td>\n",
       "      <td>56.95</td>\n",
       "      <td>0</td>\n",
       "      <td>1</td>\n",
       "      <td>0</td>\n",
       "      <td>1</td>\n",
       "      <td>0</td>\n",
       "      <td>0</td>\n",
       "      <td>0</td>\n",
       "      <td>0</td>\n",
       "    </tr>\n",
       "    <tr>\n",
       "      <th>2</th>\n",
       "      <td>1</td>\n",
       "      <td>0</td>\n",
       "      <td>0</td>\n",
       "      <td>0</td>\n",
       "      <td>2</td>\n",
       "      <td>1</td>\n",
       "      <td>1</td>\n",
       "      <td>1</td>\n",
       "      <td>0</td>\n",
       "      <td>0</td>\n",
       "      <td>0</td>\n",
       "      <td>0</td>\n",
       "      <td>0</td>\n",
       "      <td>1</td>\n",
       "      <td>53.85</td>\n",
       "      <td>1</td>\n",
       "      <td>1</td>\n",
       "      <td>0</td>\n",
       "      <td>1</td>\n",
       "      <td>0</td>\n",
       "      <td>0</td>\n",
       "      <td>0</td>\n",
       "      <td>0</td>\n",
       "    </tr>\n",
       "    <tr>\n",
       "      <th>3</th>\n",
       "      <td>1</td>\n",
       "      <td>0</td>\n",
       "      <td>0</td>\n",
       "      <td>0</td>\n",
       "      <td>45</td>\n",
       "      <td>0</td>\n",
       "      <td>1</td>\n",
       "      <td>0</td>\n",
       "      <td>1</td>\n",
       "      <td>1</td>\n",
       "      <td>0</td>\n",
       "      <td>0</td>\n",
       "      <td>1</td>\n",
       "      <td>0</td>\n",
       "      <td>42.30</td>\n",
       "      <td>0</td>\n",
       "      <td>1</td>\n",
       "      <td>1</td>\n",
       "      <td>1</td>\n",
       "      <td>0</td>\n",
       "      <td>1</td>\n",
       "      <td>0</td>\n",
       "      <td>0</td>\n",
       "    </tr>\n",
       "    <tr>\n",
       "      <th>4</th>\n",
       "      <td>0</td>\n",
       "      <td>0</td>\n",
       "      <td>0</td>\n",
       "      <td>0</td>\n",
       "      <td>2</td>\n",
       "      <td>1</td>\n",
       "      <td>0</td>\n",
       "      <td>0</td>\n",
       "      <td>0</td>\n",
       "      <td>0</td>\n",
       "      <td>0</td>\n",
       "      <td>0</td>\n",
       "      <td>0</td>\n",
       "      <td>1</td>\n",
       "      <td>70.70</td>\n",
       "      <td>1</td>\n",
       "      <td>1</td>\n",
       "      <td>0</td>\n",
       "      <td>0</td>\n",
       "      <td>1</td>\n",
       "      <td>0</td>\n",
       "      <td>0</td>\n",
       "      <td>1</td>\n",
       "    </tr>\n",
       "  </tbody>\n",
       "</table>\n",
       "</div>"
      ],
      "text/plain": [
       "   gender  SeniorCitizen  Partner  Dependents  tenure  MultipleLines  \\\n",
       "0       0              0        1           0       1              0   \n",
       "1       1              0        0           0      34              1   \n",
       "2       1              0        0           0       2              1   \n",
       "3       1              0        0           0      45              0   \n",
       "4       0              0        0           0       2              1   \n",
       "\n",
       "   OnlineSecurity  OnlineBackup  DeviceProtection  TechSupport  StreamingTV  \\\n",
       "0               0             1                 0            0            0   \n",
       "1               1             0                 1            0            0   \n",
       "2               1             1                 0            0            0   \n",
       "3               1             0                 1            1            0   \n",
       "4               0             0                 0            0            0   \n",
       "\n",
       "   StreamingMovies  Contract  PaperlessBilling  MonthlyCharges  Churn  \\\n",
       "0                0         0                 1           29.85      0   \n",
       "1                0         1                 0           56.95      0   \n",
       "2                0         0                 1           53.85      1   \n",
       "3                0         1                 0           42.30      0   \n",
       "4                0         0                 1           70.70      1   \n",
       "\n",
       "   HasInternet  automatic_pay  DSL  Fiber optic  Bank transfer (automatic)  \\\n",
       "0            1              0    1            0                          0   \n",
       "1            1              0    1            0                          0   \n",
       "2            1              0    1            0                          0   \n",
       "3            1              1    1            0                          1   \n",
       "4            1              0    0            1                          0   \n",
       "\n",
       "   Credit card (automatic)  Electronic check  \n",
       "0                        0                 1  \n",
       "1                        0                 0  \n",
       "2                        0                 0  \n",
       "3                        0                 0  \n",
       "4                        0                 1  "
      ]
     },
     "execution_count": 13,
     "metadata": {},
     "output_type": "execute_result"
    }
   ],
   "source": [
    "df.head()"
   ]
  },
  {
   "cell_type": "markdown",
   "id": "73ba1bdc",
   "metadata": {},
   "source": [
    "I'm not going to normalize tenure and charges as I'm planning to use the model later with an interface.<br>\n",
    "- `TotalCharges` = Tenure * MonthlyCharges, so it'll be dropped.\n",
    "- Same way `PhoneService` seems to be a included of `MultipleLines`"
   ]
  },
  {
   "cell_type": "code",
   "execution_count": 14,
   "id": "04079bca",
   "metadata": {},
   "outputs": [],
   "source": [
    "X = df.drop(['Churn'],axis=1)\n",
    "Y = df['Churn']\n",
    "\n",
    "x_train, x_test, y_train, y_test = train_test_split(X, Y, test_size=0.2, random_state=42, stratify=Y)"
   ]
  },
  {
   "cell_type": "code",
   "execution_count": 15,
   "id": "56db6579",
   "metadata": {},
   "outputs": [],
   "source": [
    "models = {}"
   ]
  },
  {
   "cell_type": "code",
   "execution_count": 16,
   "id": "5f3694de",
   "metadata": {},
   "outputs": [
    {
     "name": "stdout",
     "output_type": "stream",
     "text": [
      "accuracy :  79.99 %\n",
      "classification report :\n",
      "               precision    recall  f1-score   support\n",
      "\n",
      "           0       0.84      0.89      0.87      1035\n",
      "           1       0.65      0.54      0.59       374\n",
      "\n",
      "    accuracy                           0.80      1409\n",
      "   macro avg       0.75      0.72      0.73      1409\n",
      "weighted avg       0.79      0.80      0.79      1409\n",
      "\n",
      "confusion matrix :\n",
      " [[924 111]\n",
      " [171 203]]\n",
      "AUC: 0.8385000904182489\n"
     ]
    }
   ],
   "source": [
    "# Logistic Regression\n",
    "\n",
    "logreg = LogisticRegression(max_iter=5000)\n",
    "\n",
    "logreg.fit(x_train,y_train)\n",
    "y_pred = logreg.predict(x_test)\n",
    "y_pred_proba = logreg.predict_proba(x_test)[:,1]\n",
    "\n",
    "print(\"accuracy : \", round(accuracy_score(y_test,y_pred)*100,2),\"%\")\n",
    "print(\"classification report :\\n\", classification_report(y_test,y_pred))\n",
    "print(\"confusion matrix :\\n\", confusion_matrix(y_test,y_pred))\n",
    "print(\"AUC:\", roc_auc_score(y_test, y_pred_proba))\n",
    "models['logreg'] = logreg"
   ]
  },
  {
   "cell_type": "code",
   "execution_count": 19,
   "id": "dd13e621",
   "metadata": {},
   "outputs": [
    {
     "name": "stdout",
     "output_type": "stream",
     "text": [
      "accuracy :  79.49 %\n",
      "classification report :\n",
      "               precision    recall  f1-score   support\n",
      "\n",
      "           0       0.83      0.91      0.87      1035\n",
      "           1       0.66      0.47      0.55       374\n",
      "\n",
      "    accuracy                           0.79      1409\n",
      "   macro avg       0.74      0.69      0.71      1409\n",
      "weighted avg       0.78      0.79      0.78      1409\n",
      "\n",
      "confusion matrix :\n",
      " [[943  92]\n",
      " [197 177]]\n",
      "AUC: 0.8156617324136506\n"
     ]
    }
   ],
   "source": [
    "# KNN\n",
    "\n",
    "knn = KNeighborsClassifier(n_neighbors=20)\n",
    "\n",
    "knn.fit(x_train, y_train)\n",
    "y_pred = knn.predict(x_test)\n",
    "y_pred_proba = knn.predict_proba(x_test)[:,1]\n",
    "\n",
    "print(\"accuracy : \", round(accuracy_score(y_test,y_pred)*100,2),\"%\")\n",
    "print(\"classification report :\\n\", classification_report(y_test,y_pred))\n",
    "print(\"confusion matrix :\\n\", confusion_matrix(y_test,y_pred))\n",
    "print(\"AUC:\", roc_auc_score(y_test, y_pred_proba))\n",
    "models['knn'] = knn"
   ]
  },
  {
   "cell_type": "code",
   "execution_count": 23,
   "id": "28868745",
   "metadata": {},
   "outputs": [
    {
     "name": "stdout",
     "output_type": "stream",
     "text": [
      "accuracy :  79.21 %\n",
      "classification report :\n",
      "               precision    recall  f1-score   support\n",
      "\n",
      "           0       0.84      0.89      0.86      1035\n",
      "           1       0.63      0.52      0.57       374\n",
      "\n",
      "    accuracy                           0.79      1409\n",
      "   macro avg       0.73      0.71      0.72      1409\n",
      "weighted avg       0.78      0.79      0.79      1409\n",
      "\n",
      "confusion matrix :\n",
      " [[920 115]\n",
      " [178 196]]\n",
      "AUC: 0.826000413340567\n"
     ]
    }
   ],
   "source": [
    "# Random Forest\n",
    "\n",
    "rft = RandomForestClassifier(n_estimators=200,\n",
    "                             max_depth=15,\n",
    "                             random_state=42)\n",
    "\n",
    "rft.fit(x_train,y_train)\n",
    "y_pred = rft.predict(x_test)\n",
    "y_pred_proba = rft.predict_proba(x_test)[:,1]\n",
    "\n",
    "print(\"accuracy : \", round(accuracy_score(y_test,y_pred)*100,2),\"%\")\n",
    "print(\"classification report :\\n\", classification_report(y_test,y_pred))\n",
    "print(\"confusion matrix :\\n\", confusion_matrix(y_test,y_pred))\n",
    "print(\"AUC:\", roc_auc_score(y_test, y_pred_proba))\n",
    "models['rft'] = rft"
   ]
  },
  {
   "cell_type": "code",
   "execution_count": 24,
   "id": "f08ac81a",
   "metadata": {},
   "outputs": [
    {
     "name": "stdout",
     "output_type": "stream",
     "text": [
      "accuracy :  80.2 %\n",
      "classification report :\n",
      "               precision    recall  f1-score   support\n",
      "\n",
      "           0       0.84      0.90      0.87      1035\n",
      "           1       0.65      0.54      0.59       374\n",
      "\n",
      "    accuracy                           0.80      1409\n",
      "   macro avg       0.75      0.72      0.73      1409\n",
      "weighted avg       0.79      0.80      0.80      1409\n",
      "\n",
      "confusion matrix :\n",
      " [[928 107]\n",
      " [172 202]]\n",
      "AUC: 0.8400539926115373\n"
     ]
    }
   ],
   "source": [
    "# XGB\n",
    "\n",
    "imbalance_ratio = (len(y_train) - sum(y_train)) / sum(y_train)\n",
    "\n",
    "xgb = XGBClassifier(n_estimators=550,\n",
    "                    learning_rate=0.01,\n",
    "                    max_depth=7,\n",
    "                    subsample=0.7,\n",
    "                    eval_metric=\"logloss\",\n",
    "                    random_state=42)\n",
    "\n",
    "xgb.fit(x_train, y_train)\n",
    "\n",
    "y_pred = xgb.predict(x_test)\n",
    "y_pred_proba = xgb.predict_proba(x_test)[:,1]\n",
    "\n",
    "print(\"accuracy : \", round(accuracy_score(y_test,y_pred)*100,2),\"%\")\n",
    "print(\"classification report :\\n\", classification_report(y_test,y_pred))\n",
    "print(\"confusion matrix :\\n\", confusion_matrix(y_test,y_pred))\n",
    "print(\"AUC:\", roc_auc_score(y_test, y_pred_proba))\n",
    "models['xgb'] = xgb"
   ]
  },
  {
   "cell_type": "code",
   "execution_count": 25,
   "id": "00cec93d",
   "metadata": {},
   "outputs": [
    {
     "name": "stdout",
     "output_type": "stream",
     "text": [
      "accuracy :  80.48 %\n",
      "classification report :\n",
      "               precision    recall  f1-score   support\n",
      "\n",
      "           0       0.84      0.90      0.87      1035\n",
      "           1       0.66      0.54      0.59       374\n",
      "\n",
      "    accuracy                           0.80      1409\n",
      "   macro avg       0.75      0.72      0.73      1409\n",
      "weighted avg       0.80      0.80      0.80      1409\n",
      "\n",
      "confusion matrix :\n",
      " [[933 102]\n",
      " [173 201]]\n",
      "AUC: 0.8426696633857759\n"
     ]
    }
   ],
   "source": [
    "# GradientBoosting\n",
    "\n",
    "gbc = GradientBoostingClassifier(n_estimators=550,\n",
    "                                 learning_rate=0.01,\n",
    "                                 max_depth=5,\n",
    "                                 random_state=42)\n",
    "\n",
    "gbc.fit(x_train, y_train)\n",
    "y_pred = gbc.predict(x_test)\n",
    "y_pred_proba = gbc.predict_proba(x_test)[:,1]\n",
    "\n",
    "print(\"accuracy : \", round(accuracy_score(y_test,y_pred)*100,2),\"%\")\n",
    "print(\"classification report :\\n\", classification_report(y_test,y_pred))\n",
    "print(\"confusion matrix :\\n\", confusion_matrix(y_test,y_pred))\n",
    "print(\"AUC:\", roc_auc_score(y_test, y_pred_proba))\n",
    "models['gbc'] = gbc"
   ]
  },
  {
   "cell_type": "code",
   "execution_count": 26,
   "id": "c1b86934",
   "metadata": {},
   "outputs": [
    {
     "name": "stdout",
     "output_type": "stream",
     "text": [
      "accuracy :  79.91 %\n",
      "classification report :\n",
      "               precision    recall  f1-score   support\n",
      "\n",
      "           0       0.84      0.90      0.87      1035\n",
      "           1       0.65      0.52      0.58       374\n",
      "\n",
      "    accuracy                           0.80      1409\n",
      "   macro avg       0.75      0.71      0.72      1409\n",
      "weighted avg       0.79      0.80      0.79      1409\n",
      "\n",
      "confusion matrix :\n",
      " [[933 102]\n",
      " [181 193]]\n",
      "AUC: 0.840243870934408\n"
     ]
    }
   ],
   "source": [
    "# Neural Networks\n",
    "\n",
    "nn = MLPClassifier(hidden_layer_sizes=(64, 128, 64),\n",
    "                   activation='relu',\n",
    "                   solver='adam',\n",
    "                   max_iter=1000,\n",
    "                   random_state=42,\n",
    "                   early_stopping=True)\n",
    "\n",
    "nn.fit(x_train, y_train)\n",
    "y_pred = nn.predict(x_test)\n",
    "y_pred_proba = nn.predict_proba(x_test)[:,1]\n",
    "\n",
    "print(\"accuracy : \", round(accuracy_score(y_test,y_pred)*100,2),\"%\")\n",
    "print(\"classification report :\\n\", classification_report(y_test,y_pred))\n",
    "print(\"confusion matrix :\\n\", confusion_matrix(y_test,y_pred))\n",
    "print(\"AUC:\", roc_auc_score(y_test, y_pred_proba))\n",
    "models['nn'] = nn"
   ]
  },
  {
   "cell_type": "markdown",
   "id": "1641e204",
   "metadata": {},
   "source": [
    "Saving best model"
   ]
  },
  {
   "cell_type": "code",
   "execution_count": 27,
   "id": "fb5756a5",
   "metadata": {},
   "outputs": [
    {
     "name": "stdout",
     "output_type": "stream",
     "text": [
      "✅ logreg saved to model/logreg_model.pkl\n",
      "✅ knn saved to model/knn_model.pkl\n",
      "✅ rft saved to model/rft_model.pkl\n",
      "✅ xgb saved to model/xgb_model.pkl\n",
      "✅ gbc saved to model/gbc_model.pkl\n",
      "✅ nn saved to model/nn_model.pkl\n"
     ]
    }
   ],
   "source": [
    "for model_name, model in models.items():\n",
    "    joblib.dump(model, f\"model/{model_name}_model.pkl\")\n",
    "    print(f'✅ {model_name} saved to model/{model_name}_model.pkl')"
   ]
  },
  {
   "cell_type": "code",
   "execution_count": 28,
   "id": "9f754ef5",
   "metadata": {},
   "outputs": [
    {
     "name": "stdout",
     "output_type": "stream",
     "text": [
      "Accuracy: 0.7998580553584103\n",
      "Test AUC: 0.8385000904182489\n",
      "              precision    recall  f1-score   support\n",
      "\n",
      "           0       0.84      0.89      0.87      1035\n",
      "           1       0.65      0.54      0.59       374\n",
      "\n",
      "    accuracy                           0.80      1409\n",
      "   macro avg       0.75      0.72      0.73      1409\n",
      "weighted avg       0.79      0.80      0.79      1409\n",
      "\n"
     ]
    }
   ],
   "source": [
    "model = joblib.load(\"model/logreg_model.pkl\")\n",
    "\n",
    "y_pred = model.predict(x_test)\n",
    "y_proba = model.predict_proba(x_test)[:, 1]\n",
    "\n",
    "print(\"Accuracy:\", accuracy_score(y_test, y_pred))\n",
    "print(\"Test AUC:\", roc_auc_score(y_test, y_proba))\n",
    "print(classification_report(y_test, y_pred))"
   ]
  }
 ],
 "metadata": {
  "kernelspec": {
   "display_name": "venv",
   "language": "python",
   "name": "python3"
  },
  "language_info": {
   "codemirror_mode": {
    "name": "ipython",
    "version": 3
   },
   "file_extension": ".py",
   "mimetype": "text/x-python",
   "name": "python",
   "nbconvert_exporter": "python",
   "pygments_lexer": "ipython3",
   "version": "3.12.4"
  }
 },
 "nbformat": 4,
 "nbformat_minor": 5
}
